{
 "cells": [
  {
   "cell_type": "markdown",
   "id": "022076dc-2260-472f-892f-e294062a7a29",
   "metadata": {},
   "source": [
    "# Future Sales Prediction"
   ]
  },
  {
   "cell_type": "code",
   "execution_count": null,
   "id": "dba6d0fb-32ca-45f8-8fe0-59a3191e092e",
   "metadata": {},
   "outputs": [],
   "source": []
  }
 ],
 "metadata": {
  "kernelspec": {
   "display_name": "Python 3 (ipykernel)",
   "language": "python",
   "name": "python3"
  },
  "language_info": {
   "codemirror_mode": {
    "name": "ipython",
    "version": 3
   },
   "file_extension": ".py",
   "mimetype": "text/x-python",
   "name": "python",
   "nbconvert_exporter": "python",
   "pygments_lexer": "ipython3",
   "version": "3.11.7"
  }
 },
 "nbformat": 4,
 "nbformat_minor": 5
}
