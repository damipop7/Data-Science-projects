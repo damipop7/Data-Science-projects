{
 "cells": [
  {
   "cell_type": "markdown",
   "id": "b22e9960",
   "metadata": {},
   "source": [
    "# Oluwadamilola Popoola "
   ]
  },
  {
   "cell_type": "markdown",
   "id": "508f56a1",
   "metadata": {},
   "source": [
    "# Project Scenario\n",
    "\n",
    "Suppose you work for a social media marketing company that specializes in promoting brands and products on a popular social media platform. Your team is responsible for analyzing the performance of different types of posts based on categories, such as health, family, food, etc. to help clients optimize their social media strategy and increase their reach and engagement.  \n",
    "\n",
    "They want you to use Python to automatically extract tweets posted from one or more categories, and to clean, analyze and visualize the data. The team will use your analysis to  making data-driven recommendations to clients to improve their social media performance. This feature will help the marketing agency deliver tweets on time, within budget, and gain fast results.\n",
    "\n",
    "### Project Objectives\n",
    "\n",
    "-Increase client reach and engagement\n",
    "\n",
    "-Gain valuable insights that will help improve social media performance\n",
    "\n",
    "-Achieve their social media goals and provide data-driven recommendations\n",
    "\n",
    "### Your Challenge\n",
    "\n",
    "Your task will be taking on the role of a social media analyst responsible for collecting, cleaning, and analyzing data on a client's social media posts. You will also be responsible for communicating the insights and making data-driven recommendations to clients to improve their social media performance.  To do this, you will  set up the environment, identify the categories for the post (fitness, tech, family, beauty, etc)  process, analyze, and visualize data.\n",
    "\n",
    "In this project, we'll use data from Twitter; however, to keep this project unique and open-ended, please feel free to choose whichever major social media website you'd prefer.\n",
    "\n",
    "After you perform your analysis, you will share your findings.\n",
    "\n"
   ]
  },
  {
   "cell_type": "markdown",
   "id": "bf206402",
   "metadata": {},
   "source": [
    "### Goal\n",
    "Analyze performance  of different types of posts based on categories, such as health, family, food, etc. to help clients optimize their social media strategy and increase their reach and engagement.  \n",
    "\n",
    "Categories of posts: fitness, tech, family, beauty,food"
   ]
  },
  {
   "cell_type": "code",
   "execution_count": 4,
   "id": "0503d22a",
   "metadata": {},
   "outputs": [],
   "source": [
    "#Importing Libraries\n",
    "import pandas as pd\n",
    "import matplotlib as matplotlib\n",
    "import numpy as np\n",
    "import seaborn as sbn\n",
    "import random as ran\n",
    "\n",
    "import requests\n",
    "import json"
   ]
  },
  {
   "cell_type": "code",
   "execution_count": 1,
   "id": "6aa806ca",
   "metadata": {},
   "outputs": [
    {
     "ename": "NameError",
     "evalue": "name 'requests' is not defined",
     "output_type": "error",
     "traceback": [
      "\u001b[0;31m---------------------------------------------------------------------------\u001b[0m",
      "\u001b[0;31mNameError\u001b[0m                                 Traceback (most recent call last)",
      "Cell \u001b[0;32mIn[1], line 1\u001b[0m\n\u001b[0;32m----> 1\u001b[0m response \u001b[38;5;241m=\u001b[39m requests\u001b[38;5;241m.\u001b[39mget(\u001b[38;5;124m\"\u001b[39m\u001b[38;5;124mhttps://mastodon.example/api/v1/timelines/public\u001b[39m\u001b[38;5;124m\"\u001b[39m)\n\u001b[1;32m      2\u001b[0m statuses \u001b[38;5;241m=\u001b[39m json\u001b[38;5;241m.\u001b[39mloads(response\u001b[38;5;241m.\u001b[39mtext)\n",
      "\u001b[0;31mNameError\u001b[0m: name 'requests' is not defined"
     ]
    }
   ],
   "source": [
    "response = requests.get(\"https://mastodon.example/api/v1/timelines/public\")\n",
    "statuses = json.loads(response.text) \n",
    "#print(statuses)"
   ]
  },
  {
   "cell_type": "code",
   "execution_count": null,
   "id": "219f46d7",
   "metadata": {},
   "outputs": [],
   "source": []
  }
 ],
 "metadata": {
  "kernelspec": {
   "display_name": "Python 3 (ipykernel)",
   "language": "python",
   "name": "python3"
  },
  "language_info": {
   "codemirror_mode": {
    "name": "ipython",
    "version": 3
   },
   "file_extension": ".py",
   "mimetype": "text/x-python",
   "name": "python",
   "nbconvert_exporter": "python",
   "pygments_lexer": "ipython3",
   "version": "3.11.3"
  }
 },
 "nbformat": 4,
 "nbformat_minor": 5
}
